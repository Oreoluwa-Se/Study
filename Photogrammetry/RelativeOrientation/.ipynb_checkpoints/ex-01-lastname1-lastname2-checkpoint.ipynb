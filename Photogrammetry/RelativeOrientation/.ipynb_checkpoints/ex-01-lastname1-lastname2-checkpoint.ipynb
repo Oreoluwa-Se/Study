{
 "cells": [
  {
   "cell_type": "markdown",
   "metadata": {},
   "source": [
    "## Exercise in Photogrammetry II\n",
    "# Ex. 01 Relative Orientation\n",
    "### Submission: xx.xx.xxxx \n",
    "### Points: 24"
   ]
  },
  {
   "cell_type": "markdown",
   "metadata": {},
   "source": [
    "## A Fundamental matrix basics\n",
    "\n",
    "In the lecture, you were introduced to the concept of the fundamental matrix. Complete the exercise below to strengthen your understanding.\n",
    "\n",
    "**DATA:** Extract the data from the provided zip file with the password: photo\n",
    "\n",
    "**Tasks:**\n",
    "\n",
    "1.  You are given the position and orientation of two *ideal* cameras in world coordinate frame $(c=1)$. Position of camera $C_1$ is $X_0^1=[0,0,0]^T$ and of camera $C_2$ is $X_0^2=[2,5,0]^T$. The cameras viewing directions are along z-axis. The orientation of the $C_1$ and $C_2$ are provided as ```R_1``` and ```R_2```. Construct the fundamental matrix F_12. (2 Points)\n"
   ]
  },
  {
   "cell_type": "code",
   "execution_count": 23,
   "metadata": {},
   "outputs": [
    {
     "name": "stdout",
     "output_type": "stream",
     "text": [
      "R_1: [[1. 0. 0.]\n",
      " [0. 1. 0.]\n",
      " [0. 0. 1.]]\n",
      "R_2: [[ 0.70710678 -0.70710678  0.        ]\n",
      " [ 0.70710678  0.70710678  0.        ]\n",
      " [ 0.          0.          1.        ]]\n"
     ]
    }
   ],
   "source": [
    "import numpy as np\n",
    "import scipy.linalg\n",
    "%matplotlib notebook\n",
    "R_1 = np.eye(3)\n",
    "R_2 = np.array([[np.sqrt(0.5),-np.sqrt(0.5),0],[np.sqrt(0.5),np.sqrt(0.5),0],[0,0,1]])\n",
    "\n",
    "print('R_1:',R_1)\n",
    "print('R_2:',R_2)"
   ]
  },
  {
   "cell_type": "code",
   "execution_count": 9,
   "metadata": {},
   "outputs": [],
   "source": [
    "# Assumption Ideal camera:\n",
    "def kMatIdeal(kCamera):\n",
    "    return np.array([[kCamera, 0, 0], [0, kCamera, 0], [0, 0, 1]])\n",
    "\n",
    "def skew_mat(vec):\n",
    "    # takes a vector of length 3 and creates a skewed matrix\n",
    "    skew = np.array([[0, -vec[2], vec[1]], [vec[2], 0, -vec[0]], [-vec[1], vec[0], 0]])\n",
    "    return skew\n",
    "    \n",
    "def fMatrix(calibCam1, pPos1, rotMat1, calibCam2, pPos2, rotMat2):\n",
    "    bVecSkew = skew_mat((pPos2 - pPos1).squeeze())\n",
    "    calibInv1 = np.linalg.inv(calibCam1)\n",
    "    calibInv2 = np.linalg.inv(calibCam2)\n",
    "    return calibInv1 @ rotMat1 @ bVecSkew @ rotMat2 @ calibInv2   \n",
    "    "
   ]
  },
  {
   "cell_type": "code",
   "execution_count": 10,
   "metadata": {},
   "outputs": [
    {
     "name": "stdout",
     "output_type": "stream",
     "text": [
      "[[ 0.    0.    5.  ]\n",
      " [ 0.    0.   -2.  ]\n",
      " [-2.12  4.95  0.  ]]\n"
     ]
    }
   ],
   "source": [
    "kMatrix = kMatIdeal(1)\n",
    "kX0 = np.zeros(3)\n",
    "kX1 = np.array([2, 5, 0])\n",
    "f_12 = fMatrix(kMatrix, kX0, R_1, kMatrix, kX1, R_2)\n",
    "\n",
    "print(np.around(f_12, 2))"
   ]
  },
  {
   "cell_type": "markdown",
   "metadata": {},
   "source": [
    "2. The bilinear form $x'^TFx'' = 0$ encodes the coplanarity constraint and can be simplified to a matrix multiplication using Kronecker product $\\otimes$. Show that $x'^TFx'' = 0$, $F\\in \\mathbb{R}^{3\\times3}$ is equivalent to $(x''\\otimes x')^Tf$, where $f \\in \\mathbb{R}^{9\\times1}$. You can either use markdown or plot an image of some handwritten notes for example. (4 Points)"
   ]
  },
  {
   "cell_type": "markdown",
   "metadata": {},
   "source": [
    "## B Epipolar geometry\n",
    "\n",
    "You are given a fundamental matrix $F_{12}$ between the images $I_1$ and $I_2$ originated from camera $C_1$ and $C_2$ respectively.\n",
    "\n",
    "4. How to estimate fo a given point e'' in $I_2$ if it is the epipole of the camera $C_1$? (1 Point)\n",
    "5. Similarly, how to check if e' is an epipole in $I_1$? (1 Point)\n",
    "6. Estimate the image coordinates of both epipoles e' and e''. (4 Points) \n",
    "\n",
    "The fundamental matrix $F_{12}$ consists of the following values:"
   ]
  },
  {
   "cell_type": "code",
   "execution_count": 33,
   "metadata": {},
   "outputs": [
    {
     "name": "stdout",
     "output_type": "stream",
     "text": [
      "epipole 1 is null space of F.T: [-0.29 -1.43  1.  ]\n",
      "epipole 2 is bull space of F: [2. 2. 1.]\n"
     ]
    }
   ],
   "source": [
    "F_12 = np.array([[-2,-4,12],\n",
    "                [6,-2,-8],\n",
    "                [8,-4,-8]])\n",
    "\n",
    "epi1 = scipy.linalg.null_space(F_12.T).squeeze()\n",
    "epi1_img = epi1/epi1[-1]\n",
    "epi2 = scipy.linalg.null_space(F_12).squeeze()\n",
    "epi2_img = epi2/epi2[-1]\n",
    "print(\"epipole 1 is null space of F.T: {}\".format(np.round(epi1_img,2))) \n",
    "print(\"epipole 2 is null space of F: {}\".format(np.round(epi2_img, 2)))"
   ]
  },
  {
   "cell_type": "markdown",
   "metadata": {},
   "source": [
    "## C Seeing epipolar lines\n",
    "In this exercise you will learn to visualize the epipolar lines.\n",
    "\n",
    "7. Use the image point correspondences from the exercise A and the fundamental matrix to write a code that visualizes for every image point from image $I_1$ the corresponding epipolar lines on the image $I_2$. Plot also the correspondend points in $I_2$ (8 Points)"
   ]
  },
  {
   "cell_type": "code",
   "execution_count": 74,
   "metadata": {},
   "outputs": [
    {
     "name": "stdout",
     "output_type": "stream",
     "text": [
      "epipole 1: [1.8487e+03 6.2180e+02 1.0000e+00]\n",
      "epipole 2: [7.6538e+03 7.1260e+02 1.0000e+00]\n"
     ]
    }
   ],
   "source": [
    "import matplotlib.image as mi\n",
    "import matplotlib.pyplot as plt\n",
    "data = np.loadtxt(\"./data/correspondences.txt\")\n",
    "pts1 = data[:,:2]\n",
    "pts2 = data[:,2:]\n",
    "\n",
    "img1 = mi.imread(\"./data/sydney_opera_1.jpg\")\n",
    "img2 = mi.imread(\"./data/sydney_opera_2.jpg\")\n",
    "F_sydney = np.loadtxt(\"./data/F_sydney.txt\")\n",
    "\n",
    "intercepts = []\n",
    "def pointFrmLines(line1, line2):\n",
    "    inter = np.cross(line1, line2),\n",
    "    inter_HC = inter / inter[-1]\n",
    "    return inter_HC\n",
    "\n",
    "def epipoleSVD(M):\n",
    "    return scipy.linalg.null_space(M)\n",
    "\n",
    "pole1 = epipoleSVD(F_sydney.T).squeeze()\n",
    "pole1 = pole1/pole1[-1]\n",
    "print(\"epipole 1: {}\".format(np.round(pole1, 1))) \n",
    "\n",
    "pole2 = epipoleSVD(F_sydney).squeeze()\n",
    "pole2 = pole2/pole2[-1]\n",
    "print(\"epipole 2: {}\".format(np.round(pole2, 1))) \n",
    "\n",
    "l1, l2 = np.zeros((pts1.shape[0], 3)), np.zeros((pts1.shape[0], 3))\n",
    "for idx in range(pts1.shape[0]):\n",
    "    pt1 = np.append(pts1[idx, :], [1]).T\n",
    "    pt2 = np.append(pts2[idx, :], [1]).T\n",
    "    \n",
    "    l1[idx,:] = F_sydney @ pt2\n",
    "    l2[idx,:] = F_sydney.T @ pt1   "
   ]
  },
  {
   "cell_type": "code",
   "execution_count": null,
   "metadata": {},
   "outputs": [],
   "source": [
    "# draw lines\n",
    "def linesDef(lines, pole1):\n",
    "    "
   ]
  },
  {
   "cell_type": "markdown",
   "metadata": {},
   "source": [
    "## D Epipolar geometry for the normal case\n",
    "\n",
    "In the lecture you were introduced to the epipolar geometry for the general case. In this exercise your task is to adapt the general formulation to the stereo normal case.\n",
    "\n",
    "8. Draw the epipolar geometry with all the neccessary variables. You can draw it by hand or your prefered tools. (4 Points)\n",
    "\n"
   ]
  },
  {
   "cell_type": "code",
   "execution_count": null,
   "metadata": {},
   "outputs": [],
   "source": []
  }
 ],
 "metadata": {
  "kernelspec": {
   "display_name": "Python 3 (ipykernel)",
   "language": "python",
   "name": "python3"
  },
  "language_info": {
   "codemirror_mode": {
    "name": "ipython",
    "version": 3
   },
   "file_extension": ".py",
   "mimetype": "text/x-python",
   "name": "python",
   "nbconvert_exporter": "python",
   "pygments_lexer": "ipython3",
   "version": "3.8.10"
  }
 },
 "nbformat": 4,
 "nbformat_minor": 2
}
