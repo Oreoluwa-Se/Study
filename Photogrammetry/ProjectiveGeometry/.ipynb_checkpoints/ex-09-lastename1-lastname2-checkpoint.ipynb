{
 "cells": [
  {
   "cell_type": "markdown",
   "metadata": {},
   "source": [
    "## Exercise in Photogrammetry I\n",
    "## **Ex.9 : Essential Projective Geometry**\n",
    "### Hand out: xx.xx.xxxx \n",
    "### Submission: xx.xx.xxxx \n",
    "### Points: 12"
   ]
  },
  {
   "cell_type": "markdown",
   "metadata": {},
   "source": [
    "## A. Homogenous coordinates"
   ]
  },
  {
   "cell_type": "markdown",
   "metadata": {},
   "source": [
    "In this task you need to find the intersection of two lines *$l_1$* and $l_2$. The line $l_1$ is defined by two points $x_1 = [98, 352]^T$ and $x_2 = [1548, 543]^T$. You can find the parameters of the line $l_2$ by computing the following $x_3$ and $x_4$ points.\n",
    "\n",
    "The point $x_3$ is the intersection of the lines $m_1$ and $m_2$. The lines $m_1$ and $m_2$ are determined through the *Hesse normal form* with $\\theta_1=35^{\\circ}$, $d_1=1210$ and $\\theta_2=138^{\\circ}$, $d_2=978$. The point $x4$ can be found as an intersection point of lines $m_3$ and $m_4$.\n",
    "\n",
    "The lines $m_3$and $m_4$ are given in the *intercept form*, where $x_0^3 = 1945$, $y_0^3 = 2761$ and $x_0^4 = -458$, $y_0^3 = 503$.\n",
    "\n",
    "**Hints**:\n",
    "- Hesse normal form: $cos(\\theta)\\cdot x + sin(\\theta)\\cdot y = d$ \n",
    "- Intercept form: $\\frac{x}{x_0} + \\frac{y}{y_0} = 1$\n",
    "\n",
    "**Task**:\n",
    "1. Find the intersection point $s$ of line $l_1$ and $l_2$ using **projective geometry** (homogenous coordinates). Print out the **euclidiean coordinates** of points $s$, $x_3$ and $x_4$. Finally, plot both lines l1 and l2 and verify your results.\n",
    "<br> *(4 points)*"
   ]
  },
  {
   "cell_type": "code",
   "execution_count": 39,
   "metadata": {},
   "outputs": [],
   "source": [
    "# import all required modules\n",
    "import numpy as np\n",
    "import matplotlib.pyplot as plt\n",
    "\n",
    "# Known parameters\n",
    "point_1 = np.array([98, 352])\n",
    "point_2 = np.array([1548, 548])\n",
    "\n",
    "# Hesse normal\n",
    "theta1, d1 = 25, 1210\n",
    "theta2, d2 = 138, 978\n",
    "\n",
    "# intercepet form\n",
    "m3_x, m3_y = 1945, 2761\n",
    "m4_x, m4_y = -458, 503\n"
   ]
  },
  {
   "cell_type": "code",
   "execution_count": 36,
   "metadata": {},
   "outputs": [],
   "source": [
    "def hesseNrmlLine(d, theta, theta_type=\"deg\"):\n",
    "    if theta_type == \"deg\":\n",
    "        theta =  np.deg2rad(theta)\n",
    "    line = np.array([np.cos(theta), np.sin(theta), -d]).T\n",
    "    return line.squeeze()\n",
    "\n",
    "def pointFrmLines(line1, line2):\n",
    "    inter = np.cross(line1, line2)\n",
    "    inter_HC = inter / inter[-1]\n",
    "    \n",
    "    return inter, inter_HC\n",
    "\n",
    "def lineFrmPoints(point1, point2):\n",
    "    inter = np.cross(point1, point2)\n",
    "   \n",
    "    return inter.squeeze()\n",
    "\n",
    "def interceptForm(x, y):\n",
    "    line = np.array([1/x, 1/y, -1]).T\n",
    "    return line.squeeze()\n",
    "    \n",
    "def HcConvert(point):\n",
    "    return np.append(point, [1])"
   ]
  },
  {
   "cell_type": "code",
   "execution_count": 37,
   "metadata": {},
   "outputs": [
    {
     "name": "stdout",
     "output_type": "stream",
     "text": [
      "Regular form: [-130.17  -83.51    0.79]\n",
      "\n",
      "Homogeneous form: [-165.19 -105.97    1.  ]\n",
      "\n"
     ]
    }
   ],
   "source": [
    "# compute the coordinates of x_3 by using homogenous coordinates\n",
    "line1 = hesseNrmlLine(theta1, d1)\n",
    "line2 = hesseNrmlLine(theta2, d2)\n",
    "\n",
    "x_3, x_3_HC = pointFrmLines(line1, line2)\n",
    "print(\"Regular form: {}\\n\".format(np.round(x_3, 2))); print(\"Homogeneous form: {}\\n\".format(np.round(x_3_HC, 2)))\n"
   ]
  },
  {
   "cell_type": "code",
   "execution_count": 38,
   "metadata": {},
   "outputs": [
    {
     "name": "stdout",
     "output_type": "stream",
     "text": [
      "Regular form: [0.002 0.003 0.   ]\n",
      "\n",
      "Homogeneous form: [8.96820e+02 1.48793e+03 1.00000e+00]\n",
      "\n"
     ]
    }
   ],
   "source": [
    "# compute the coordinates of x_4 by using homogenous coordinates\n",
    "line1 = interceptForm(m3_x, m3_y)\n",
    "line2 = interceptForm(m4_x, m4_y)\n",
    "\n",
    "x_4, x_4_HC = pointFrmLines(line1, line2)\n",
    "print(\"Regular form: {}\\n\".format(np.round(x_4, 3))); print(\"Homogeneous form: {}\\n\".format(np.round(x_4_HC, 2)))"
   ]
  },
  {
   "cell_type": "code",
   "execution_count": 27,
   "metadata": {},
   "outputs": [
    {
     "name": "stdout",
     "output_type": "stream",
     "text": [
      "line 1: [   -196    1450 -491192]\n"
     ]
    }
   ],
   "source": [
    "# Given x_1 and x_2 compute the line l_1\n",
    "x_1_hc = HcConvert(point_1)\n",
    "x_2_hc = HcConvert(point_2)\n",
    "\n",
    "l_1 = lineFrmPoints(x_1_hc, x_2_hc)\n",
    "print(\"line 1: {}\".format(l_1))"
   ]
  },
  {
   "cell_type": "code",
   "execution_count": 28,
   "metadata": {},
   "outputs": [
    {
     "name": "stdout",
     "output_type": "stream",
     "text": [
      "line 2: [  -1593.90513004    1062.00338404 -150747.37552314]\n"
     ]
    }
   ],
   "source": [
    "# Given x_3 and x_4 compute the line l_2\n",
    "l_2 = lineFrmPoints(x_3_HC , x_4_HC )\n",
    "print(\"line 2: {}\".format(l_2))"
   ]
  },
  {
   "cell_type": "code",
   "execution_count": 29,
   "metadata": {},
   "outputs": [
    {
     "name": "stdout",
     "output_type": "stream",
     "text": [
      "Regular form: [3.03063872e+08 7.53366963e+08 2.10300978e+06]\n",
      "\n",
      "Homogeneous form: [144.11 358.23   1.  ]\n",
      "\n"
     ]
    }
   ],
   "source": [
    "# Given l_1 and l_2 compute the intersection points s\n",
    "s, s_HC = pointFrmLines(l_1, l_2)\n",
    "print(\"Regular form: {}\\n\".format(np.round(s, 2))); print(\"Homogeneous form: {}\\n\".format(np.round(s_HC, 2)))"
   ]
  },
  {
   "cell_type": "code",
   "execution_count": 47,
   "metadata": {},
   "outputs": [
    {
     "name": "stdout",
     "output_type": "stream",
     "text": [
      "Euclidean s: [144.11 358.23]\n",
      "\n",
      "Euclidean x3: [-165.19 -105.97]\n",
      "\n",
      "Euclidean x4: [ 896.82 1487.93]\n",
      "\n"
     ]
    }
   ],
   "source": [
    "# print out the euclidean coordinates of s, x_3 and x_4\n",
    "print(\"Euclidean s: {}\\n\".format(np.round(s_HC[:2], 2)))\n",
    "print(\"Euclidean x3: {}\\n\".format(np.round(x_3_HC[:2], 2)))\n",
    "print(\"Euclidean x4: {}\\n\".format(np.round(x_4_HC[:2], 2)))"
   ]
  },
  {
   "cell_type": "code",
   "execution_count": 45,
   "metadata": {},
   "outputs": [
    {
     "data": {
      "image/png": "[encoded data removed]",
      "text/plain": [
       "<Figure size 432x288 with 1 Axes>"
      ]
     },
     "metadata": {
      "needs_background": "light"
     },
     "output_type": "display_data"
    }
   ],
   "source": [
    "# finally, plot both lines l1 and l2 and verify your results\n",
    "pIntX = [s_HC[0]]\n",
    "pIntY = [s_HC[1]]\n",
    "\n",
    "pLine1X = [point_1[0], point_2[0]] \n",
    "pLine1Y = [point_1[1], point_2[1]]\n",
    "\n",
    "pLine2X = [x_3_HC[0], x_4_HC[0]]\n",
    "pLine2Y = [x_3_HC[1], x_4_HC[1]]\n",
    "\n",
    "# plotting lines\n",
    "plt.plot(pLine1X, pLine1Y, label=\"line 1\")\n",
    "plt.plot(pLine2X, pLine2Y, label=\"line 2\")\n",
    "plt.plot(pIntX, pIntY, label=\"Intercept Point\", color=\"black\", marker=\"o\", markerfacecolor=\"black\")\n",
    "plt.xlabel(\"x-axis\")\n",
    "plt.ylabel(\"y-axis\")\n",
    "plt.title(\"Lines Plot\")\n",
    "plt.legend()\n",
    "plt.show()"
   ]
  },
  {
   "cell_type": "markdown",
   "metadata": {},
   "source": [
    "## B. Projective Geometry"
   ]
  },
  {
   "cell_type": "markdown",
   "metadata": {},
   "source": [
    "You install a surveillance camera. This is a sensor width *principal point* $x_h = [400, 300]^T$ pel, *camera constant* $c = 550$ pel, *shear* $s = 0$ and *scale difference* $m = 0.0025$. You are also given the coordinates of two points in the world coordinate frame $X_1 = [1, 0, 2]$ m and $X_2 = [2, 3, 1]^T$ m.<br> *(8 points)*"
   ]
  },
  {
   "cell_type": "markdown",
   "metadata": {},
   "source": [
    "**Tasks**:\n",
    "1. Assuming the camera is located at the origin of the world with identical orientation, project the 3D points into the sensor coordinate system. Print out the *calibration matrix (K)*, *projection matrix (P)* and the *euclidean coordinates* of the sensor points. <br>*(5 points)*  \n",
    "2. Let's assume the camera has changed its location to $X_0 = [0.4, 0, 10]^T$ and is rotated by $4^\\circ$ around the Y-axis. Taking this transfomation into account, project again the given 3D points to the sensor coordinates and print out the *projection matrix (P)* and the *euclidean coordinates* of the sensor points.<br> *(3 points)*"
   ]
  },
  {
   "cell_type": "markdown",
   "metadata": {},
   "source": [
    "## B1"
   ]
  },
  {
   "cell_type": "code",
   "execution_count": 48,
   "metadata": {},
   "outputs": [
    {
     "name": "stdout",
     "output_type": "stream",
     "text": [
      "[[550 0 400]\n",
      " [0 551.375 300]\n",
      " [0 0 1]]\n"
     ]
    }
   ],
   "source": [
    "# setup the calibration matrix K and print out your result\n",
    "def affineCamMatrix(kCamera, shear, principalPoint, scaleDiff):\n",
    "    k = [[kCamera, kCamera*shear, principalPoint[0]], [0, kCamera*(1 + scaleDiff), principalPoint[1]], [0,0, 1]]\n",
    "    \n",
    "    return np.array(k, dtype=object) \n",
    "calibMatrix = affineCamMatrix(550, 0, [400, 300], 0.0025)\n",
    "print(calibMatrix)"
   ]
  },
  {
   "cell_type": "code",
   "execution_count": 86,
   "metadata": {},
   "outputs": [
    {
     "name": "stdout",
     "output_type": "stream",
     "text": [
      "Projection Matrix \n",
      "\n",
      "[[550.0 0.0 400.0 0.0]\n",
      " [0.0 551.375 300.0 0.0]\n",
      " [0.0 0.0 1.0 0.0]]\n"
     ]
    }
   ],
   "source": [
    "# setup the projection matrix P and print out your result\n",
    "def projMatrix(kMatrix, rot, pAxis):\n",
    "    h3 = np.zeros((3, 4))\n",
    "    h3[:3,:3] = np.eye(3)\n",
    "    h3[:3,-1] = -1*pAxis\n",
    "    \n",
    "    return kMatrix @ rot @ h3\n",
    "    \n",
    "rot = np.eye(3)\n",
    "pAxis = np.array([0, 0, 0], dtype=object)\n",
    "\n",
    "pMat = projMatrix(calibMatrix, rot, pAxis)\n",
    "print(\"Projection Matrix \\n\")\n",
    "print(pMat)"
   ]
  },
  {
   "cell_type": "code",
   "execution_count": 80,
   "metadata": {},
   "outputs": [],
   "source": [
    "def senseCordConversion(pMatrix, point):\n",
    "    # change to homogeneous coordinate\n",
    "    point = HcConvert(point)\n",
    "    sensorPoint = pMatrix @ point.T\n",
    "    return (sensorPoint / sensorPoint[-1]).squeeze()"
   ]
  },
  {
   "cell_type": "code",
   "execution_count": 68,
   "metadata": {},
   "outputs": [
    {
     "name": "stdout",
     "output_type": "stream",
     "text": [
      "Euclidean sensor point 1: [675.0 300.0]\n",
      "Euclidean sensor point 2: [1500.0 1954.125]\n"
     ]
    }
   ],
   "source": [
    "# project the 3D points into the sensor coordinate system and print out the euclidean sensor coordinates\n",
    "X1 = np.array([1, 0, 2], dtype=object).squeeze()\n",
    "X2 = np.array([2, 3, 1], dtype=object).squeeze()\n",
    "\n",
    "sx = senseCordConversion(pMat, X1)\n",
    "print(\"Euclidean sensor point 1: {}\".format(sx[:2]))\n",
    "sx = senseCordConversion(pMat, X2)\n",
    "print(\"Euclidean sensor point 2: {}\".format(sx[:2]))"
   ]
  },
  {
   "cell_type": "markdown",
   "metadata": {},
   "source": [
    "## B2"
   ]
  },
  {
   "cell_type": "code",
   "execution_count": 74,
   "metadata": {},
   "outputs": [],
   "source": [
    "def rot_matrix(angle, axis, type_=\"rad\"):\n",
    "        if type_ == \"deg\":\n",
    "            angle =  np.deg2rad(angle)\n",
    "\n",
    "        if axis == \"z\":\n",
    "            return np.array([[np.cos(angle), -np.sin(angle), 0], [np.sin(angle), np.cos(angle), 0], [0, 0, 1]], dtype=object)\n",
    "        if axis == \"x\":\n",
    "            return np.array([[1, 0, 0], [0, np.cos(angle), -np.sin(angle)], [0, np.sin(angle), np.cos(angle)]], dtype=object)\n",
    "        if axis == \"y\":\n",
    "            return np.array([[np.cos(angle), 0, np.sin(angle)],[0, 1, 0], [-np.sin(angle), 0, np.cos(angle)]], dtype=object)"
   ]
  },
  {
   "cell_type": "code",
   "execution_count": 87,
   "metadata": {},
   "outputs": [
    {
     "name": "stdout",
     "output_type": "stream",
     "text": [
      "Projection Matrix \n",
      "\n",
      "[[520.7576381452533 0.0 437.3916806631986 -4582.2198618900875]\n",
      " [-20.92694212323759 551.375 299.26921507794725 -2984.3213739301773]\n",
      " [-0.0697564737441253 0.0 0.9975640502598242 -9.947737913100593]]\n"
     ]
    }
   ],
   "source": [
    "# setup the projection matrix P and print out your result\n",
    "rot = rot_matrix(4, \"y\", type_=\"deg\")\n",
    "pAxis = np.array([0.4, 0, 10], dtype=object)\n",
    "\n",
    "pMat = projMatrix(calibMatrix, rot, pAxis)\n",
    "print(\"Projection Matrix \\n\")\n",
    "print(pMat)"
   ]
  },
  {
   "cell_type": "code",
   "execution_count": 88,
   "metadata": {},
   "outputs": [
    {
     "name": "stdout",
     "output_type": "stream",
     "text": [
      "Euclidean sensor point 1: [397.2243037382189 299.99999999999994]\n",
      "Euclidean sensor point 2: [341.4103224557692 118.0217828715128]\n"
     ]
    }
   ],
   "source": [
    "# project the 3D points into the sensor coordinate system and print out the euclidean sensor coordinates\n",
    "sx = senseCordConversion(pMat, X1)\n",
    "print(\"Euclidean sensor point 1: {}\".format(sx[:2]))\n",
    "sx = senseCordConversion(pMat, X2)\n",
    "print(\"Euclidean sensor point 2: {}\".format(sx[:2]))"
   ]
  },
  {
   "cell_type": "code",
   "execution_count": null,
   "metadata": {},
   "outputs": [],
   "source": []
  }
 ],
 "metadata": {
  "kernelspec": {
   "display_name": "Python 3 (ipykernel)",
   "language": "python",
   "name": "python3"
  },
  "language_info": {
   "codemirror_mode": {
    "name": "ipython",
    "version": 3
   },
   "file_extension": ".py",
   "mimetype": "text/x-python",
   "name": "python",
   "nbconvert_exporter": "python",
   "pygments_lexer": "ipython3",
   "version": "3.8.10"
  },
  "toc": {
   "base_numbering": 1,
   "nav_menu": {},
   "number_sections": false,
   "sideBar": true,
   "skip_h1_title": false,
   "title_cell": "Table of Contents",
   "title_sidebar": "Contents",
   "toc_cell": false,
   "toc_position": {},
   "toc_section_display": true,
   "toc_window_display": true
  }
 },
 "nbformat": 4,
 "nbformat_minor": 4
}
